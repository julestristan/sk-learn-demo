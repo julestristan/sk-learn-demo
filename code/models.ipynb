{
 "cells": [
  {
   "cell_type": "code",
   "execution_count": 22,
   "id": "50825385-4431-4f82-9e76-987e0d5ba55b",
   "metadata": {},
   "outputs": [
    {
     "name": "stdout",
     "output_type": "stream",
     "text": [
      "['MedInc', 'HouseAge', 'AveRooms', 'AveBedrms', 'Population', 'AveOccup', 'Latitude', 'Longitude']\n"
     ]
    }
   ],
   "source": [
    "from sklearn import datasets\n",
    "from sklearn.model_selection import train_test_split\n",
    "from sklearn.linear_model import LinearRegression\n",
    "from sklearn.metrics import r2_score\n",
    "from sklearn.preprocessing import PolynomialFeatures\n",
    "from sklearn.ensemble import (HistGradientBoostingRegressor,\n",
    "    RandomForestRegressor)\n",
    "import joblib\n",
    "housing = datasets.fetch_california_housing()\n",
    "\n",
    "print(housing.feature_names)"
   ]
  },
  {
   "cell_type": "code",
   "execution_count": 23,
   "id": "6dc3707f-9e85-4fc6-8bf1-122a9e305cc4",
   "metadata": {},
   "outputs": [
    {
     "name": "stdout",
     "output_type": "stream",
     "text": [
      "(20640, 8)\n",
      "(20640, 45)\n",
      "0.847946834562182\n"
     ]
    }
   ],
   "source": [
    "x = housing.data\n",
    "y = housing.target\n",
    "\n",
    "print(x.shape)\n",
    "\n",
    "poly = PolynomialFeatures()\n",
    "x = poly.fit_transform(x)\n",
    "\n",
    "print(x.shape)\n",
    "# random_state to generate a seed for random shuffling of train/test data.\n",
    "x_train, x_test, y_train, y_test = train_test_split(x,y,test_size=0.2, random_state=100) # 20% for test, 80% for training\n",
    "\n",
    "#LR = LinearRegression()\n",
    "#GBR, RFR = HistGradientBoostingRegressor(), RandomForestRegressor(n_jobs=-1)\n",
    "# n_jobs Tells CPU to use all available cores for computation (-1 = all)\n",
    "\n",
    "model = HistGradientBoostingRegressor(max_iter=300,learning_rate=0.1)\n",
    "# max_iter: total number of tree structures generated before algorithm ends\n",
    "# learning_rate: speed of the gradient descent\n",
    "model.fit(x_train,y_train)\n",
    "\n",
    "joblib.dump(model,\"HGBR-model.joblib\")\n",
    "y_pred = model.predict(x_test)\n",
    "r2 = r2_score(y_test, y_pred)\n",
    "\n",
    "print(r2)"
   ]
  },
  {
   "cell_type": "code",
   "execution_count": 24,
   "id": "2dde16dc-8d63-4227-b877-30a84bf95aa0",
   "metadata": {},
   "outputs": [
    {
     "name": "stdout",
     "output_type": "stream",
     "text": [
      "0.847946834562182\n"
     ]
    }
   ],
   "source": [
    "localmodel = joblib.load(\"HGBR-model.joblib\")\n",
    "\n",
    "y_pred = localmodel.predict(x_test)\n",
    "r2 = r2_score(y_test, y_pred)\n",
    "print(r2)"
   ]
  },
  {
   "cell_type": "code",
   "execution_count": null,
   "id": "74975be4-c9eb-4526-b076-b6795b85ba63",
   "metadata": {},
   "outputs": [],
   "source": []
  },
  {
   "cell_type": "code",
   "execution_count": null,
   "id": "1f604cb2-6c7f-4b0f-87b6-7a02b9e38fcc",
   "metadata": {},
   "outputs": [],
   "source": []
  }
 ],
 "metadata": {
  "kernelspec": {
   "display_name": "Python 3 (ipykernel)",
   "language": "python",
   "name": "python3"
  },
  "language_info": {
   "codemirror_mode": {
    "name": "ipython",
    "version": 3
   },
   "file_extension": ".py",
   "mimetype": "text/x-python",
   "name": "python",
   "nbconvert_exporter": "python",
   "pygments_lexer": "ipython3",
   "version": "3.13.5"
  }
 },
 "nbformat": 4,
 "nbformat_minor": 5
}
